{
  "cells": [
    {
      "cell_type": "code",
      "source": [
        "import pandas as pd\n",
        "from sklearn.model_selection import train_test_split\n",
        "from sklearn.ensemble import RandomForestClassifier\n",
        "from xgboost import XGBClassifier\n",
        "from lightgbm import LGBMClassifier\n",
        "from sklearn.ensemble import VotingClassifier\n",
        "from sklearn.preprocessing import LabelEncoder\n",
        "import warnings\n",
        "import os\n",
        "\n",
        "# Suppress warnings\n",
        "warnings.filterwarnings(\"ignore\")\n",
        "\n",
        "# Set LightGBM verbosity\n",
        "os.environ['LIGHTGBM_DEBUG'] = '0'\n",
        "os.environ['VERBOSE'] = '0'\n",
        "os.environ['NUM_THREADS'] = '1'\n",
        "\n",
        "# Load the CSV file directly\n",
        "data = pd.read_csv('//content/DatasetML.csv')\n",
        "\n",
        "# Fill any null cells with a placeholder value or a strategy\n",
        "data = data.fillna(data.mean(numeric_only=True)).fillna('Unknown')\n",
        "\n",
        "# Convert categorical features to numeric\n",
        "label_encoders = {}\n",
        "for column in data.select_dtypes(include=['object']).columns:\n",
        "    label_encoders[column] = LabelEncoder()\n",
        "    data[column] = label_encoders[column].fit_transform(data[column])\n",
        "\n",
        "# Features (X) and target (y), excluding non-numeric and target 'Drug' column\n",
        "X = data.select_dtypes(include=[float, int]).drop(columns=['Drug', 'Sex', 'Ascites', 'Hepatomegaly', 'Spiders', 'Edema', 'Status'])\n",
        "y = data['Drug']\n",
        "\n",
        "# Split the data into training and testing sets\n",
        "X_train, X_test, y_train, y_test = train_test_split(X, y, test_size=0.2, random_state=20)\n",
        "\n",
        "# Define the models\n",
        "clf1 = RandomForestClassifier(n_estimators=100, max_depth=10, min_samples_split=2, min_samples_leaf=1, n_jobs=-1)\n",
        "clf2 = XGBClassifier(n_estimators=200, learning_rate=0.1, max_depth=5, random_state=20)\n",
        "clf3 = LGBMClassifier(n_estimators=200, learning_rate=0.1, max_depth=5, random_state=20, verbose=-1)\n",
        "\n",
        "# Create the ensemble model\n",
        "model = VotingClassifier(estimators=[('rf', clf1), ('xgb', clf2), ('lgbm', clf3)], voting='soft')\n",
        "model.fit(X_train, y_train)\n",
        "\n",
        "# Check the accuracy on the test set\n",
        "accuracy = model.score(X_test, y_test)\n",
        "print(f'Accuracy: {accuracy:.2f}')\n",
        "\n",
        "# Inverse map the encoded drug names back to original names\n",
        "drug_mapping = dict(zip(label_encoders['Drug'].transform(label_encoders['Drug'].classes_), label_encoders['Drug'].classes_))\n",
        "\n",
        "# Example of new patient data, ensure the number of features matches X\n",
        "new_patient_data = pd.DataFrame(\n",
        "    [[9000, 326, 18199, 6.6, 244, 3.02, 199, 1819, 170.05, 91, 132, 12.1, 4]],\n",
        "    columns=[\n",
        "        'id', 'N_Days', 'Age', 'Bilirubin', 'Cholesterol', 'Albumin', 'Copper', 'Alk_Phos', 'SGOT',\n",
        "        'Tryglicerides', 'Platelets', 'Prothrombin', 'Stage'\n",
        "    ]\n",
        ")\n",
        "\n",
        "# Fill any null cells in the new patient data\n",
        "new_patient_data = new_patient_data.fillna(new_patient_data.mean(numeric_only=True)).fillna('Unknown')\n",
        "\n",
        "# Convert the new patient data using label encoders\n",
        "for column in new_patient_data.select_dtypes(include=['object']).columns:\n",
        "    if column in label_encoders:\n",
        "        new_patient_data[column] = label_encoders[column].transform(new_patient_data[column])\n",
        "\n",
        "# Ensure new_patient_data columns match X_train\n",
        "new_patient_data = new_patient_data[X.columns]\n",
        "\n",
        "# Predict the best drug for the new patient\n",
        "prediction = model.predict(new_patient_data)\n",
        "\n",
        "# Map back to original drug name\n",
        "predicted_drug = drug_mapping[prediction[0]]\n",
        "\n",
        "# Print the result with patient id\n",
        "patient_id = new_patient_data['id'][0]  # Extract the patient id from the data\n",
        "print(f'Patient ID: {patient_id}, Predicted Drug: {predicted_drug}')\n"
      ],
      "metadata": {
        "colab": {
          "base_uri": "https://localhost:8080/"
        },
        "id": "M2SVCCfZZ9jQ",
        "outputId": "065b9adb-813f-4708-db90-3191c7108223"
      },
      "execution_count": 12,
      "outputs": [
        {
          "output_type": "stream",
          "name": "stdout",
          "text": [
            "Accuracy: 0.71\n",
            "Patient ID: 9000, Predicted Drug: D-penicillamine\n"
          ]
        }
      ]
    }
  ],
  "metadata": {
    "colab": {
      "provenance": []
    },
    "kernelspec": {
      "display_name": "Python 3",
      "name": "python3"
    },
    "language_info": {
      "name": "python"
    }
  },
  "nbformat": 4,
  "nbformat_minor": 0
}